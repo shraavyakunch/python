{
 "cells": [
  {
   "cell_type": "code",
   "execution_count": 1,
   "metadata": {},
   "outputs": [
    {
     "name": "stdout",
     "output_type": "stream",
     "text": [
      "enter a number2020\n",
      "yes\n"
     ]
    }
   ],
   "source": [
    "n = int(input(\"enter a number\"))\n",
    "if n%4==0 and n%100!=0 or n%400==0 :\n",
    "  print(\"yes\")\n",
    "else:\n",
    "    print(\"no\")\n"
   ]
  },
  {
   "cell_type": "markdown",
   "metadata": {},
   "source": [
    "# find the largest number from the given 3 digits number"
   ]
  },
  {
   "cell_type": "code",
   "execution_count": 10,
   "metadata": {},
   "outputs": [
    {
     "name": "stdout",
     "output_type": "stream",
     "text": [
      "enter a number10\n",
      "a20\n",
      "20\n",
      "b30\n",
      "30\n",
      "c60\n",
      "60\n",
      "c is the largest number\n"
     ]
    }
   ],
   "source": [
    "n = int(input(\"enter a number\"))\n",
    "a = input(\"a\")\n",
    "print(a)\n",
    "b = input(\"b\")\n",
    "print(b)\n",
    "c = input(\"c\")\n",
    "print(c)\n",
    "if a>b and a>c :\n",
    " print(\"a is the largest number\")\n",
    "elif b > c and b> a:\n",
    " print(\"b is the largest number\")\n",
    "else :\n",
    " print(\"c is the largest number\")\n",
    "    "
   ]
  },
  {
   "cell_type": "markdown",
   "metadata": {},
   "source": [
    "# while loop \n",
    "syntax:\n",
    "#### while boolean condition :<br>\n",
    "    statements <br>\n",
    "    increment/decrement"
   ]
  },
  {
   "cell_type": "code",
   "execution_count": 1,
   "metadata": {},
   "outputs": [
    {
     "name": "stdout",
     "output_type": "stream",
     "text": [
      "gitam\n",
      "gitam\n",
      "gitam\n",
      "gitam\n",
      "gitam\n"
     ]
    }
   ],
   "source": [
    "# need to print gitam 5 times\n",
    "x = 0\n",
    "while x<5:\n",
    " print(\"gitam\") \n",
    " x = x+1\n",
    "    "
   ]
  },
  {
   "cell_type": "code",
   "execution_count": 3,
   "metadata": {},
   "outputs": [
    {
     "name": "stdout",
     "output_type": "stream",
     "text": [
      "enter a number10\n",
      "1 2 3 4 5 6 7 8 9 10 "
     ]
    }
   ],
   "source": [
    "x = int(input( \"enter a number\"))\n",
    "x = 1\n",
    "while x<=10:\n",
    " print(\"\")\n"
   ]
  },
  {
   "cell_type": "code",
   "execution_count": null,
   "metadata": {},
   "outputs": [
    {
     "name": "stdout",
     "output_type": "stream",
     "text": [
      "enter a number10\n"
     ]
    }
   ],
   "source": [
    "n = int(input( \"enter a number\"))\n",
    "n=1\n",
    "i = 1\n",
    "sum = 0\n",
    "while i<=n:\n",
    "    if n%2==0:\n",
    "        sum = sum +i\n",
    "        i=i+1\n",
    "        print(sum)"
   ]
  },
  {
   "cell_type": "code",
   "execution_count": null,
   "metadata": {},
   "outputs": [],
   "source": []
  }
 ],
 "metadata": {
  "kernelspec": {
   "display_name": "Python 3",
   "language": "python",
   "name": "python3"
  }
 },
 "nbformat": 4,
 "nbformat_minor": 2
}
