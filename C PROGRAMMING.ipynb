{
 "cells": [
  {
   "cell_type": "code",
   "execution_count": null,
   "metadata": {},
   "outputs": [],
   "source": [
    "#include <stdio.h>\n",
    "#include<limits.h>\n",
    " int main()\n",
    "{\n",
    "    int a;\n",
    "    a=INT_MIN;\n",
    "    printf(\"%d\",a);\n",
    "}\n"
   ]
  },
  {
   "cell_type": "code",
   "execution_count": null,
   "metadata": {},
   "outputs": [],
   "source": [
    "#include <stdio.h>\n",
    "#include<limits.h>\n",
    " int main()\n",
    "{\n",
    "    int a;\n",
    "    a=INT_MAX;\n",
    "    printf(\"%d\",a);\n",
    "}\n"
   ]
  },
  {
   "cell_type": "code",
   "execution_count": null,
   "metadata": {},
   "outputs": [],
   "source": [
    "\n",
    "#include <stdio.h>\n",
    "#include<limits.h>\n",
    "void main()\n",
    "{\n",
    "    int i;\n",
    "    for(i=0;i<=200;i++)\n",
    "    printf(\"%c = %d\",i,i);\n",
    "\n",
    "}\n"
   ]
  },
  {
   "cell_type": "code",
   "execution_count": null,
   "metadata": {},
   "outputs": [],
   "source": [
    "#include <stdio.h>\n",
    "\n",
    "void main()\n",
    "{\n",
    "    int i;\n",
    "    \n",
    "    printf(\"%d\",'+');\n",
    "}\n"
   ]
  },
  {
   "cell_type": "code",
   "execution_count": null,
   "metadata": {},
   "outputs": [],
   "source": [
    "#include <stdio.h>\n",
    "\n",
    "void main()\n",
    "{\n",
    "    int i;\n",
    "    \n",
    "    printf(\"abcd\\rxyz\");\n",
    "}\n"
   ]
  },
  {
   "cell_type": "markdown",
   "metadata": {},
   "source": [
    "#include <stdio.h>\n",
    "\n",
    "void main()\n",
    "{\n",
    "    int i;\n",
    "    \n",
    "    printf(\"abcd\\txyz\");\n",
    "}\n"
   ]
  },
  {
   "cell_type": "code",
   "execution_count": null,
   "metadata": {},
   "outputs": [],
   "source": [
    "\n",
    "#include <stdio.h>\n",
    "\n",
    "void main()\n",
    "{\n",
    "    int i=29;\n",
    "printf(\"%x\",i);\n",
    "    \n",
    "}\n"
   ]
  },
  {
   "cell_type": "code",
   "execution_count": null,
   "metadata": {},
   "outputs": [],
   "source": [
    "#include <stdio.h>\n",
    "\n",
    "void main()\n",
    "{\n",
    "    int i=29;\n",
    "printf(\"%x\",i);\n",
    "    \n",
    "}\n"
   ]
  },
  {
   "cell_type": "code",
   "execution_count": null,
   "metadata": {},
   "outputs": [],
   "source": [
    "#include <stdio.h>\n",
    "void main()\n",
    "{\n",
    "  float a;\n",
    "  a=fmod(20.5,3.2);\n",
    "  printf(\"%f\",a);\n",
    "}\n"
   ]
  },
  {
   "cell_type": "code",
   "execution_count": null,
   "metadata": {},
   "outputs": [],
   "source": [
    "#include <stdio.h>\n",
    "void main()\n",
    "{\n",
    "  int b,a=5;\n",
    "  b=++a;\n",
    "  \n",
    "  printf(\"%d %d\",a,b);\n",
    "}\n"
   ]
  },
  {
   "cell_type": "code",
   "execution_count": null,
   "metadata": {},
   "outputs": [],
   "source": [
    "#include <stdio.h>\n",
    "void main()\n",
    "{\n",
    "  int b,a=5;\n",
    "  b=a++;\n",
    "  \n",
    "  printf(\"%d %d\",a,b);\n",
    "}\n"
   ]
  },
  {
   "cell_type": "code",
   "execution_count": null,
   "metadata": {},
   "outputs": [],
   "source": [
    "#include <stdio.h>\n",
    "void main()\n",
    "{\n",
    "  int b,a=5;\n",
    "  printf(\"%d \",a++);\n",
    "  printf(\"%d\",a);\n",
    "}\n"
   ]
  },
  {
   "cell_type": "code",
   "execution_count": null,
   "metadata": {},
   "outputs": [],
   "source": [
    "#include <stdio.h>\n",
    "void main()\n",
    "{\n",
    "  int c;\n",
    "  c=printf(\"hello\\n\");\n",
    "  printf(\"\\n%d \",c);\n",
    "}\n"
   ]
  },
  {
   "cell_type": "code",
   "execution_count": null,
   "metadata": {},
   "outputs": [],
   "source": [
    "#include <stdio.h>\n",
    "void main()\n",
    "{\n",
    "  int a=5,b=9,c;\n",
    "  c=b&&a++;\n",
    "  printf(\"%d\",a);\n",
    "}\n"
   ]
  },
  {
   "cell_type": "code",
   "execution_count": null,
   "metadata": {},
   "outputs": [],
   "source": [
    "#include <stdio.h>\n",
    "void main()\n",
    "{\n",
    "  int a=5,b=9,c;\n",
    "  c=b||++a;\n",
    "  printf(\"%d\",a);\n",
    "}\n"
   ]
  },
  {
   "cell_type": "code",
   "execution_count": null,
   "metadata": {},
   "outputs": [],
   "source": [
    "#include <stdio.h>\n",
    "void main()\n",
    "{\n",
    "  int a=5,b=6,c,d=0;\n",
    "  c=b||a&&d;\n",
    "  printf(\"%d\",c);\n",
    "}\n"
   ]
  },
  {
   "cell_type": "code",
   "execution_count": null,
   "metadata": {},
   "outputs": [],
   "source": [
    "#include <stdio.h>\n",
    "void main()\n",
    "{\n",
    "  int a=5,b=6,c;\n",
    "  c=a&b;\n",
    "  printf(\"%d\",c);\n",
    "}\n"
   ]
  },
  {
   "cell_type": "code",
   "execution_count": null,
   "metadata": {},
   "outputs": [],
   "source": [
    "#include <stdio.h>\n",
    "void main()\n",
    "{\n",
    "  int a=5,b=6,c;\n",
    "  c=a<<6;\n",
    "  printf(\"%d\",c);\n",
    "}\n"
   ]
  },
  {
   "cell_type": "code",
   "execution_count": null,
   "metadata": {},
   "outputs": [],
   "source": [
    "#include <stdio.h>\n",
    "void main()\n",
    "{\n",
    "  int a=5,b=6,c;\n",
    "  c=a>>2;\n",
    "  printf(\"%d\",c);\n",
    "}\n"
   ]
  },
  {
   "cell_type": "code",
   "execution_count": null,
   "metadata": {},
   "outputs": [],
   "source": [
    "#include <stdio.h>\n",
    "void main()\n",
    "{\n",
    "  int a=5,c;\n",
    "  c=~a;\n",
    "  printf(\"%d\",c);\n",
    "}\n"
   ]
  },
  {
   "cell_type": "code",
   "execution_count": null,
   "metadata": {},
   "outputs": [],
   "source": [
    "#include <stdio.h>\n",
    "void main()\n",
    "{\n",
    "  int a=5,b=0;\n",
    "  if(a=b)\n",
    "  printf(\"yes\");\n",
    "  else\n",
    "  printf(\"no\");\n",
    "  printf(\"%d\",a);\n",
    "}\n",
    " \n"
   ]
  },
  {
   "cell_type": "code",
   "execution_count": null,
   "metadata": {},
   "outputs": [],
   "source": [
    "\n",
    "#include <stdio.h>\n",
    "void main()\n",
    "{\n",
    "  int a=5,b=0;\n",
    "  if(a!=b)\n",
    "  printf(\"yes\");\n",
    "  else\n",
    "  printf(\"no\");\n",
    "  printf(\"%d\",a);\n",
    "}\n",
    " \n"
   ]
  },
  {
   "cell_type": "code",
   "execution_count": null,
   "metadata": {},
   "outputs": [],
   "source": [
    "#include <stdio.h>\n",
    "void main()\n",
    "{\n",
    "    long double a;\n",
    "  \n",
    " \n",
    " printf(\"%d\",sizeof(a));\n",
    "}"
   ]
  },
  {
   "cell_type": "code",
   "execution_count": null,
   "metadata": {},
   "outputs": [],
   "source": [
    "#include <stdio.h>\n",
    "void main()\n",
    "{\n",
    "   int a=5,b=6,c;\n",
    "   c=a<b?a:b;\n",
    "   printf(\"%d\",c);\n",
    "}"
   ]
  },
  {
   "cell_type": "code",
   "execution_count": null,
   "metadata": {},
   "outputs": [],
   "source": [
    "#include <stdio.h>\n",
    "void main()\n",
    "{\n",
    "   int a=6,b=5,c;\n",
    "   c=a>b?0:1;\n",
    "   printf(\"%d\",c);\n",
    "}"
   ]
  },
  {
   "cell_type": "code",
   "execution_count": null,
   "metadata": {},
   "outputs": [],
   "source": []
  }
 ],
 "metadata": {
  "kernelspec": {
   "display_name": "Python 3",
   "language": "python",
   "name": "python3"
  },
  "language_info": {
   "codemirror_mode": {
    "name": "ipython",
    "version": 3
   },
   "file_extension": ".py",
   "mimetype": "text/x-python",
   "name": "python",
   "nbconvert_exporter": "python",
   "pygments_lexer": "ipython3",
   "version": "3.7.4"
  }
 },
 "nbformat": 4,
 "nbformat_minor": 2
}
